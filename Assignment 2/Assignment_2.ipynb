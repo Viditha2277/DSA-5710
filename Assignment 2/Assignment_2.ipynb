{
  "nbformat": 4,
  "nbformat_minor": 0,
  "metadata": {
    "colab": {
      "provenance": []
    },
    "kernelspec": {
      "name": "python3",
      "display_name": "Python 3"
    },
    "language_info": {
      "name": "python"
    }
  },
  "cells": [
    {
      "cell_type": "code",
      "execution_count": 14,
      "metadata": {
        "colab": {
          "base_uri": "https://localhost:8080/"
        },
        "id": "3tjrQwZ7-LYf",
        "outputId": "b2c7dbea-c090-484c-e044-60f37615d899"
      },
      "outputs": [
        {
          "output_type": "stream",
          "name": "stdout",
          "text": [
            "\n",
            "* \n",
            "* * \n",
            "* * * \n",
            "* * * * \n",
            "* * * * * \n",
            "* * * * \n",
            "* * * \n",
            "* * \n",
            "* \n"
          ]
        }
      ],
      "source": [
        "for i in range(6):\n",
        "  for j in range(i):\n",
        "    print(\"*\", end=\" \")\n",
        "  print()\n",
        "\n",
        "for i in range(4):\n",
        "  for j in range(4,i,-1):\n",
        "    print(\"*\", end=\" \")\n",
        "  print()"
      ]
    },
    {
      "cell_type": "code",
      "source": [
        "my_list = [10, 20, 30, 40, 50, 60, 70, 80, 90, 100]\n",
        "for i in range(1, len(my_list),2):\n",
        "  print(my_list[i])"
      ],
      "metadata": {
        "colab": {
          "base_uri": "https://localhost:8080/"
        },
        "id": "WMG1tE9DAHp2",
        "outputId": "5db4a161-1025-4571-f0c3-3fc6d7d5dc8f"
      },
      "execution_count": 15,
      "outputs": [
        {
          "output_type": "stream",
          "name": "stdout",
          "text": [
            "20\n",
            "40\n",
            "60\n",
            "80\n",
            "100\n"
          ]
        }
      ]
    },
    {
      "cell_type": "code",
      "source": [
        "x = [23, \"Python\", 23.98]\n",
        "l = [type(i) for i in x]\n",
        "print(l)"
      ],
      "metadata": {
        "colab": {
          "base_uri": "https://localhost:8080/"
        },
        "id": "7HWEYjwnAySF",
        "outputId": "3c83c369-4998-4c54-f92d-3204bce465b4"
      },
      "execution_count": 17,
      "outputs": [
        {
          "output_type": "stream",
          "name": "stdout",
          "text": [
            "[<class 'int'>, <class 'str'>, <class 'float'>]\n"
          ]
        }
      ]
    },
    {
      "cell_type": "code",
      "source": [
        "a = [1,2,3,3,3,3,4,5]\n",
        "print(list(set(a)))"
      ],
      "metadata": {
        "colab": {
          "base_uri": "https://localhost:8080/"
        },
        "id": "GK08Nh9ZBFHm",
        "outputId": "73b7f631-4ab9-4d3e-98d2-f9f9871e6918"
      },
      "execution_count": 19,
      "outputs": [
        {
          "output_type": "stream",
          "name": "stdout",
          "text": [
            "[1, 2, 3, 4, 5]\n"
          ]
        }
      ]
    },
    {
      "cell_type": "code",
      "source": [
        "s = 'The quick Brow Fox'.replace(\" \", \"\")\n",
        "l = 0\n",
        "u = 0\n",
        "for i in s:\n",
        "      if(i.islower()):\n",
        "            l+=1\n",
        "      else:\n",
        "            u+=1\n",
        "print(\"No. of Upper-case characters: \" + str(u))\n",
        "print(\"No. of Lower-case characters: \" + str(l))"
      ],
      "metadata": {
        "colab": {
          "base_uri": "https://localhost:8080/"
        },
        "id": "VWyeHug0BUlw",
        "outputId": "d2fab673-32b6-479f-d1f2-f678ac4c00a1"
      },
      "execution_count": 21,
      "outputs": [
        {
          "output_type": "stream",
          "name": "stdout",
          "text": [
            "No. of Upper-case characters: 3\n",
            "No. of Lower-case characters: 12\n"
          ]
        }
      ]
    },
    {
      "cell_type": "code",
      "source": [],
      "metadata": {
        "id": "E3xU4x1IDnLg"
      },
      "execution_count": null,
      "outputs": []
    }
  ]
}